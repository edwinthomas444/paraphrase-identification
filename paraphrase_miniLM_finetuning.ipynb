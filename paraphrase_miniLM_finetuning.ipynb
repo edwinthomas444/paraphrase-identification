{
 "cells": [
  {
   "cell_type": "code",
   "execution_count": 1,
   "id": "15cf0ba7-37ba-404f-ba25-24b7652f2023",
   "metadata": {},
   "outputs": [],
   "source": [
    "import torch\n",
    "from torch import nn\n",
    "from torch.utils.data import DataLoader\n",
    "from sentence_transformers import SentenceTransformer, models, InputExample, losses\n",
    "from sentence_transformers import evaluation\n",
    "import numpy as np\n",
    "from sklearn.metrics import confusion_matrix\n",
    "import math\n",
    "import numpy as np\n",
    "\n",
    "model_id = \"sentence-transformers/all-MiniLM-L6-v2\"\n",
    "model = SentenceTransformer(model_id)"
   ]
  },
  {
   "cell_type": "code",
   "execution_count": 3,
   "id": "fd4165c5-9f02-47ba-9b71-e5958354e830",
   "metadata": {},
   "outputs": [
    {
     "name": "stdout",
     "output_type": "stream",
     "text": [
      "SentenceTransformer(\n",
      "  (0): Transformer({'max_seq_length': 256, 'do_lower_case': False}) with Transformer model: BertModel \n",
      "  (1): Pooling({'word_embedding_dimension': 384, 'pooling_mode_cls_token': False, 'pooling_mode_mean_tokens': True, 'pooling_mode_max_tokens': False, 'pooling_mode_mean_sqrt_len_tokens': False})\n",
      "  (2): Normalize()\n",
      ")\n"
     ]
    }
   ],
   "source": [
    "print(model)"
   ]
  },
  {
   "cell_type": "code",
   "execution_count": 4,
   "id": "f4456a0e-ffea-4405-a318-4437c56e7c68",
   "metadata": {},
   "outputs": [],
   "source": [
    "dev_dp = 'SemEval-PIT2015-github/data/dev.data'\n",
    "train_dp = 'SemEval-PIT2015-github/data/train.data'\n",
    "test_dp = 'SemEval-PIT2015-github/data/test.data'"
   ]
  },
  {
   "cell_type": "code",
   "execution_count": 5,
   "id": "e14f859b-50df-4b74-bde2-c1f41af279a6",
   "metadata": {},
   "outputs": [],
   "source": [
    "def get_gt_label(x):\n",
    "    if int(x) in [0,1,2]:\n",
    "        return 0.0\n",
    "    elif int(x) in [4,5]:\n",
    "        return 1.0\n",
    "    else:\n",
    "        return -1.0\n",
    "    \n",
    "def get_pred_label(x, thresh=0.5):\n",
    "    return 1.0 if x>=thresh else 0.0\n",
    "\n",
    "def get_gt_train_label(x):\n",
    "    if int(x[0])==2 and int(x[1])==3:\n",
    "        return -1.0\n",
    "    elif int(x[0])>=int(x[1]):\n",
    "        return 1.0\n",
    "    else:\n",
    "        return 0.0"
   ]
  },
  {
   "cell_type": "code",
   "execution_count": 6,
   "id": "3e0cb9c5-ed64-444e-8b42-88843df57623",
   "metadata": {
    "scrolled": true,
    "tags": []
   },
   "outputs": [
    {
     "name": "stderr",
     "output_type": "stream",
     "text": [
      "100%|█████████████████████████████████████████████████████████████████████████████████████████████████████████████████████████████████████████████████████████████████| 13063/13063 [00:00<00:00, 155783.63it/s]\n"
     ]
    }
   ],
   "source": [
    "# create train, val and test sets\n",
    "from tqdm import tqdm \n",
    "train_examples = []\n",
    "train_gt = []\n",
    "with open(train_dp, 'r') as f:\n",
    "    lines = f.readlines() #[choose:choose+1]\n",
    "    sent1_train, sent2_train = [], []\n",
    "    for line in tqdm(lines, total=len(lines)):\n",
    "        comp = line.split('\\t')\n",
    "        gt = get_gt_train_label(comp[4][1:-1].split(','))\n",
    "        # to skip ambiguous cases..\n",
    "        if gt == -1:\n",
    "            continue\n",
    "        sent1_train.append(comp[2])\n",
    "        sent2_train.append(comp[3])\n",
    "        # label=torch.tensor(gt).long()\n",
    "        train_examples.append(InputExample(texts=[comp[2], comp[3]], label=gt))\n",
    "        # print(comp[2], \"\\t\", comp[3], gt)\n",
    "        train_gt.append(gt)\n",
    "train_dataloader = DataLoader(train_examples, shuffle=True, batch_size=16)"
   ]
  },
  {
   "cell_type": "code",
   "execution_count": 8,
   "id": "327dd1cd-4687-40d4-ac5a-795f8cd0c50b",
   "metadata": {},
   "outputs": [
    {
     "data": {
      "text/plain": [
       "[Text(0.5, 1.0, 'Frequency Histogram of train_labels'),\n",
       " Text(0, 0.5, 'Frequency')]"
      ]
     },
     "execution_count": 8,
     "metadata": {},
     "output_type": "execute_result"
    },
    {
     "data": {
      "image/png": "[encoded data removed]",
      "text/plain": [
       "<Figure size 700x500 with 1 Axes>"
      ]
     },
     "metadata": {},
     "output_type": "display_data"
    }
   ],
   "source": [
    "import matplotlib.pyplot as plt\n",
    "%matplotlib inline\n",
    "plt.rcParams.update({'figure.figsize':(7,5), 'figure.dpi':100})\n",
    "\n",
    "# Plot Histogram on x\n",
    "x = np.array(train_gt)\n",
    "plt.hist(x, bins=10)\n",
    "plt.gca().set(title='Frequency Histogram of train_labels', ylabel='Frequency')"
   ]
  },
  {
   "cell_type": "code",
   "execution_count": 57,
   "id": "1e9a1850-c0e9-4ac7-be63-eb404fb18876",
   "metadata": {},
   "outputs": [
    {
     "name": "stderr",
     "output_type": "stream",
     "text": [
      "100%|███████████████████████████████████████████████████████████████████████████████████████████████████████████████████████████████████████████████████████████████████| 4727/4727 [00:00<00:00, 175257.01it/s]\n"
     ]
    }
   ],
   "source": [
    "dev_examples = []\n",
    "with open(dev_dp, 'r') as f:\n",
    "    lines = f.readlines() #[choose:choose+1]\n",
    "    sent1_val, sent2_val, val_gt = [], [], []\n",
    "    for line in tqdm(lines, total=len(lines)):\n",
    "        comp = line.split('\\t')\n",
    "        gt = get_gt_train_label(comp[4][1:-1].split(','))\n",
    "        # to skip ambiguous cases..\n",
    "        if gt == -1:\n",
    "            continue\n",
    "        sent1_val.append(comp[2])\n",
    "        sent2_val.append(comp[3])\n",
    "        val_gt.append(gt)\n",
    "        # torch.tensor(gt).long()\n",
    "        dev_examples.append(InputExample(texts=[comp[2], comp[3]], label=gt))\n",
    "        \n",
    "dev_dataloader = DataLoader(dev_examples, shuffle=True, batch_size=16)\n",
    "evaluator = evaluation.EmbeddingSimilarityEvaluator(sent1_val, sent2_val, val_gt)"
   ]
  },
  {
   "cell_type": "code",
   "execution_count": 10,
   "id": "45c73feb-ce72-4681-859e-7bd070ff103b",
   "metadata": {
    "tags": []
   },
   "outputs": [],
   "source": [
    "train_loss = losses.CosineSimilarityLoss(model)\n",
    "# train_loss = losses.SoftmaxLoss(model=model,\n",
    "#                                 sentence_embedding_dimension=model.get_sentence_embedding_dimension(),\n",
    "#                                 num_labels=2)"
   ]
  },
  {
   "cell_type": "code",
   "execution_count": 11,
   "id": "ab3678b3-2a4d-45d4-a3f9-af6c14f2a450",
   "metadata": {},
   "outputs": [
    {
     "name": "stdout",
     "output_type": "stream",
     "text": [
      "Epochs:  2 Warmup Steps:  144\n"
     ]
    },
    {
     "data": {
      "application/vnd.jupyter.widget-view+json": {
       "model_id": "b0edd977852d4dcfa7e65b94f8b5cd8e",
       "version_major": 2,
       "version_minor": 0
      },
      "text/plain": [
       "Epoch:   0%|          | 0/2 [00:00<?, ?it/s]"
      ]
     },
     "metadata": {},
     "output_type": "display_data"
    },
    {
     "data": {
      "application/vnd.jupyter.widget-view+json": {
       "model_id": "8fea31e5454246238b322d0c65f42e07",
       "version_major": 2,
       "version_minor": 0
      },
      "text/plain": [
       "Iteration:   0%|          | 0/721 [00:00<?, ?it/s]"
      ]
     },
     "metadata": {},
     "output_type": "display_data"
    },
    {
     "data": {
      "application/vnd.jupyter.widget-view+json": {
       "model_id": "ee74c880add249e9aac228dd3320714f",
       "version_major": 2,
       "version_minor": 0
      },
      "text/plain": [
       "Iteration:   0%|          | 0/721 [00:00<?, ?it/s]"
      ]
     },
     "metadata": {},
     "output_type": "display_data"
    }
   ],
   "source": [
    "# ... Your other code to load training data\n",
    "#  evaluator=evaluator,\n",
    "epochs=2\n",
    "warmup_steps = int(len(train_dataloader) * epochs * 0.1)\n",
    "output_path = f'./output_base_{epochs}epoch_wdyn{warmup_steps}_cosine'\n",
    "print('Epochs: ',epochs, 'Warmup Steps: ',warmup_steps)\n",
    "\n",
    "model.fit(train_objectives=[(train_dataloader, train_loss)], epochs=epochs, evaluator=evaluator, warmup_steps=warmup_steps, evaluation_steps=100, output_path=output_path)"
   ]
  },
  {
   "cell_type": "code",
   "execution_count": 58,
   "id": "94a5796c-3c7b-4ec3-9a8a-3faa7dc1c0a6",
   "metadata": {},
   "outputs": [],
   "source": [
    "# using sentence transformer models for inference\n",
    "class SentenceTransformerModel:\n",
    "    def __init__(self, model_name, device='cuda'):\n",
    "        self.model_name = model_name\n",
    "        self.device = device\n",
    "        self.model = self.get_transformer()\n",
    "        \n",
    "    def get_transformer(self):\n",
    "        model = SentenceTransformer(self.model_name, device=self.device)\n",
    "        return model\n",
    "    \n",
    "    def get_batched_data(self, iterable, bs=1):\n",
    "        len_iter = len(iterable)\n",
    "        for idx in range(0, len_iter, bs):\n",
    "            yield iterable[idx:min(idx + bs, len_iter)]\n",
    "\n",
    "    def get_encodings(self, data, bs = 64):\n",
    "        # computes bs embeddings and returns stacked output\n",
    "        model_out = self.model.encode(data,\n",
    "                                     batch_size=bs,\n",
    "                                     show_progress_bar=True,\n",
    "                                     device=self.device,\n",
    "                                     convert_to_tensor=True)\n",
    "        return model_out\n",
    "    \n",
    "\n",
    "def compute_precision(y_true, y_pred, pos_class=True):\n",
    "    true_neg, false_pos, false_neg, true_pos = confusion_matrix(y_true, y_pred).ravel()\n",
    "    precision = 0.0\n",
    "    if pos_class:\n",
    "        if true_pos+false_pos != 0:\n",
    "            precision = true_pos/(true_pos+false_pos)\n",
    "    else:\n",
    "        if true_neg+false_neg != 0:\n",
    "            precision = true_neg/(true_neg+false_neg)\n",
    "    return precision\n",
    "\n",
    "def compute_recall(y_true, y_pred, pos_class=True):\n",
    "    true_neg, false_pos, false_neg, true_pos = confusion_matrix(y_true, y_pred).ravel()\n",
    "    recall = 0.0\n",
    "    if pos_class:\n",
    "        if true_pos+false_neg != 0:\n",
    "            recall = true_pos/(true_pos+false_neg)\n",
    "    else:\n",
    "        if true_neg+false_pos!=0:\n",
    "            recall = true_neg/(true_neg+false_pos)\n",
    "    return recall\n",
    "\n",
    "def compute_fscore(y_true, y_pred, pos_class = True, beta=1):\n",
    "    precision = compute_precision(y_true, y_pred, pos_class)\n",
    "    recall = compute_recall(y_true, y_pred, pos_class)\n",
    "    fscore = 0.0\n",
    "    if precision+recall!=0:\n",
    "        fscore = (1+math.pow(beta,2))*(precision*recall)/(math.pow(beta,2)*precision + recall)\n",
    "    return fscore"
   ]
  },
  {
   "cell_type": "code",
   "execution_count": 44,
   "id": "a19dd6cc-f0ea-43cd-b765-62939a9e692e",
   "metadata": {},
   "outputs": [],
   "source": [
    "from sentence_transformers import SentenceTransformer, models, InputExample\n",
    "from tqdm import tqdm\n",
    "from torch import nn\n",
    "from torch.utils.data import DataLoader\n",
    "from sentence_transformers import SentenceTransformer, InputExample, losses\n",
    "from sentence_transformers import evaluation\n",
    "# Testing the model\n",
    "model_b0 = SentenceTransformerModel(model_name=\"all-MiniLM-L6-v2\")\n",
    "model_b1 = SentenceTransformer(output_path)"
   ]
  },
  {
   "cell_type": "code",
   "execution_count": 45,
   "id": "2a37767f-75b4-417e-bf33-a9cd34473645",
   "metadata": {},
   "outputs": [
    {
     "name": "stderr",
     "output_type": "stream",
     "text": [
      "100%|█████████████████████████████████████████████████████████████████████████████████████████████████████████████████████████████████████████████████████████████████████| 972/972 [00:00<00:00, 487313.35it/s]\n"
     ]
    }
   ],
   "source": [
    "# preparing data points\n",
    "all_gts = []\n",
    "\n",
    "with open(test_dp, 'r') as f:\n",
    "    lines = f.readlines() #[choose:choose+1]\n",
    "    sent1_data, sent2_data = [], []\n",
    "    for line in tqdm(lines, total=len(lines)):\n",
    "        comp = line.split('\\t')\n",
    "        gt = get_gt_label(comp[4])\n",
    "        if gt == -1:\n",
    "            continue\n",
    "        sent1_data.append(comp[2])\n",
    "        sent2_data.append(comp[3])\n",
    "        all_gts.append(gt)"
   ]
  },
  {
   "cell_type": "code",
   "execution_count": 46,
   "id": "cd02f79e-2f3f-41a7-a8b3-13fefb1b46b1",
   "metadata": {},
   "outputs": [
    {
     "data": {
      "text/plain": [
       "SentenceTransformer(\n",
       "  (0): Transformer({'max_seq_length': 256, 'do_lower_case': False}) with Transformer model: BertModel \n",
       "  (1): Pooling({'word_embedding_dimension': 384, 'pooling_mode_cls_token': False, 'pooling_mode_mean_tokens': True, 'pooling_mode_max_tokens': False, 'pooling_mode_mean_sqrt_len_tokens': False})\n",
       "  (2): Normalize()\n",
       ")"
      ]
     },
     "execution_count": 46,
     "metadata": {},
     "output_type": "execute_result"
    }
   ],
   "source": [
    "model"
   ]
  },
  {
   "cell_type": "markdown",
   "id": "fc68ed60-ac92-4fbd-90b5-6f93b8058904",
   "metadata": {},
   "source": [
    "# Test data"
   ]
  },
  {
   "cell_type": "code",
   "execution_count": 126,
   "id": "e8dc4e2a-3f02-4a47-9011-369409d70882",
   "metadata": {},
   "outputs": [
    {
     "data": {
      "application/vnd.jupyter.widget-view+json": {
       "model_id": "ef2bd823d70e46979e4adf585ffd6746",
       "version_major": 2,
       "version_minor": 0
      },
      "text/plain": [
       "Batches:   0%|          | 0/14 [00:00<?, ?it/s]"
      ]
     },
     "metadata": {},
     "output_type": "display_data"
    },
    {
     "data": {
      "application/vnd.jupyter.widget-view+json": {
       "model_id": "43cbb6af34aa4199becdf6084184d055",
       "version_major": 2,
       "version_minor": 0
      },
      "text/plain": [
       "Batches:   0%|          | 0/14 [00:00<?, ?it/s]"
      ]
     },
     "metadata": {},
     "output_type": "display_data"
    },
    {
     "name": "stdout",
     "output_type": "stream",
     "text": [
      "torch.Size([838])\n",
      "torch.Size([838])\n"
     ]
    }
   ],
   "source": [
    "import torch\n",
    "cos = torch.nn.CosineSimilarity(dim=1)\n",
    "\n",
    "# model b0\n",
    "model_b0_out1 = model_b0.get_encodings(sent1_data)\n",
    "model_b0_out2 = model_b0.get_encodings(sent2_data)\n",
    "# print(type(model_out1),model_out1.shape, model_out2.shape)\n",
    "\n",
    "model_b1_out1 = torch.from_numpy(model_b1.encode(sent1_data))\n",
    "model_b1_out2 = torch.from_numpy(model_b1.encode(sent2_data))\n",
    "\n",
    "sim_b0 = cos(model_b0_out1, model_b0_out2)\n",
    "sim_b1 = cos(model_b1_out1, model_b1_out2)\n",
    "\n",
    "# sim = torch.sub(model_out1, model_out2)\n",
    "print(sim_b0.shape)\n",
    "print(sim_b1.shape)"
   ]
  },
  {
   "cell_type": "code",
   "execution_count": 127,
   "id": "94137e92-c680-4d57-8dae-004267e398d8",
   "metadata": {
    "scrolled": true,
    "tags": []
   },
   "outputs": [],
   "source": [
    "sim_b0 = sim_b0.to('cpu').numpy()\n",
    "sim_b1 = sim_b1.to('cpu').numpy()\n",
    "# print(sim)\n",
    "sim_pred_b0 = [get_pred_label(x, thresh=0.45) for x in sim_b0]\n",
    "sim_pred_b1 = [get_pred_label(x, thresh=0.45) for x in sim_b1]\n"
   ]
  },
  {
   "cell_type": "markdown",
   "id": "1e026f2c-0317-4c88-855a-57a0a3b77a05",
   "metadata": {},
   "source": [
    "# Error Analysis"
   ]
  },
  {
   "cell_type": "code",
   "execution_count": 164,
   "id": "1a0dee47-5641-469f-b8bf-8cbca0aba2d8",
   "metadata": {},
   "outputs": [],
   "source": [
    "def errors_ind(arr, arr1):\n",
    "    diff  = np.array(arr) - arr1\n",
    "    error_ind = np.where((diff==1)|(diff==-1))[0]\n",
    "    return error_ind\n",
    "def corr_ind(arr, arr1):\n",
    "    diff = np.array(arr) - arr1\n",
    "    corr_ind = np.where((diff==0))[0]\n",
    "    return corr_ind"
   ]
  },
  {
   "cell_type": "code",
   "execution_count": 170,
   "id": "6d38bcef-a96a-4f7f-a456-75b9e34d7613",
   "metadata": {},
   "outputs": [],
   "source": [
    "e_i = errors_ind(sim_pred_b0,all_gts)\n",
    "e_c = corr_ind(sim_pred_b1,all_gts)\n",
    "des = np.intersect1d(e_i, e_c)\n",
    "\n",
    "error_sent1 = [sent1_data[ind] for ind in des]\n",
    "error_sent2 = [sent2_data[ind] for ind in des]\n",
    "lab_b1 = [sim_pred_b1[ind] for ind in des]\n",
    "lab_b0 = [sim_pred_b0[ind] for ind in des]\n",
    "lab_gt = [all_gts[ind] for ind in des]"
   ]
  },
  {
   "cell_type": "code",
   "execution_count": 174,
   "id": "c21a9ceb-8f0a-4189-b96f-252398a3f183",
   "metadata": {
    "scrolled": true,
    "tags": []
   },
   "outputs": [
    {
     "name": "stdout",
     "output_type": "stream",
     "text": [
      "All the home alones watching 8 mile \t The rap battle at the end of 8 mile gets me so hype #### 1.0 , 0.0 , 0.0\n",
      "The Ending to 8 Mile is my fav part of the whole movie \t See 8 Mile is always on but it s the tv version so it s gay #### 1.0 , 0.0 , 0.0\n",
      "0 and 8 mile on at the same time \t It s just rap lyrics from the movie 8 mile #### 1.0 , 0.0 , 0.0\n",
      "0 and 8 mile on at the same time \t I will never get tired of 8 Mile #### 1.0 , 0.0 , 0.0\n",
      "The last rap battle in 8 mile though \t I think everyone is watching 8 mile Rn #### 1.0 , 0.0 , 0.0\n",
      "Well at least 8 Mile is on \t 8 mile has been that movie #### 1.0 , 0.0 , 0.0\n",
      "Well at least 8 Mile is on \t I really did miss my part on 8 Mile #### 1.0 , 0.0 , 0.0\n",
      "Well at least 8 Mile is on \t Lose Yourself is the perfect song to end 8 mile on #### 1.0 , 0.0 , 0.0\n",
      "8 mile is on friday made \t I missed the best part of 8 mile #### 1.0 , 0.0 , 0.0\n",
      "Oh shit niggy 8 mile is on \t Eminem s rap in the final battle of 8 Mile gets me pumped every time #### 1.0 , 0.0 , 0.0\n",
      "Ok good the end of 8 Mile is on \t I always get the movies 8 mile and green mile mixed up #### 1.0 , 0.0 , 0.0\n",
      "Let s go see after earth \t Did After Earth already come out #### 1.0 , 0.0 , 0.0\n",
      "who wants to see after earth with me todayyyy \t even if After Earth is a good movie #### 1.0 , 0.0 , 0.0\n",
      "i need to watch after earth asap \t After Earth is a great ass movie #### 1.0 , 0.0 , 0.0\n",
      "Heading out to see After Earth in a bit \t Just got done eating chinese with the fam now ganna go see after earth #### 0.0 , 1.0 , 1.0\n",
      "Going to see after earth but \t After earth is out and I havent seen it yet #### 1.0 , 0.0 , 0.0\n",
      "I wanna see the movie after earth \t NOW YOU SEE ME and AFTER EARTH Cant Outpace FAST FURIOUS 6 #### 1.0 , 0.0 , 0.0\n",
      "the US and belgium are tied at half \t Come on Romelu get some goals for Belgium #### 1.0 , 0.0 , 0.0\n",
      "Dude Belgium is freakin staked \t Belgium almost take the lead in the 27th min #### 1.0 , 0.0 , 0.0\n",
      "Belgium s gonna rape by the USA \t What kind of formation Belgium playing there #### 1.0 , 0.0 , 0.0\n",
      "Belgium s gonna rape by the USA \t At half US 1 Belgium 1 Indians 5 #### 1.0 , 0.0 , 0.0\n",
      "Belgium s gonna rape by the USA \t Who s in goal for Belgium for the USMNT friendly #### 1.0 , 0.0 , 0.0\n",
      "Belgium vs USA you watching \t 6th minute Belgium with the score #### 1.0 , 0.0 , 0.0\n",
      "Belgium vs USA you watching \t Belgium in a friendly instead #### 1.0 , 0.0 , 0.0\n",
      "Watching the USMNT vs the talented Belgium team \t The Belgium GK wasnt trying to concede another goal #### 1.0 , 0.0 , 0.0\n",
      "Watching the USMNT vs the talented Belgium team \t that being said US 21 Belgium #### 1.0 , 0.0 , 0.0\n",
      "yeah Belgium is definitely good \t Belgium vs USA you watching #### 1.0 , 0.0 , 0.0\n",
      "I love everyone on the Belgium squad \t Belgium is playing 4 centerbacks and fellani and they concede on a set piece #### 1.0 , 0.0 , 0.0\n",
      "Rafa Benitez is still a massive prick \t Mourinho to city Benitez to stay at Chelsea #### 1.0 , 0.0 , 0.0\n",
      "Rafa Benitez is still a massive prick \t Chelsea FC wouldnt get rid of Benitez now #### 1.0 , 0.0 , 0.0\n",
      "Rafa Benitez he s too good for you \t Thank you for your tactics Benitez #### 1.0 , 0.0 , 0.0\n",
      "Rafa Benitez he s too good for you \t Got alot of time for rafa Benitez #### 1.0 , 0.0 , 0.0\n",
      "Benitez is a sick manager \t Well done to Rafa Benitez a dignified man #### 1.0 , 0.0 , 0.0\n",
      "congratulations to petr ech and rafa benitez \t Rafa Benitez a free agent #### 1.0 , 0.0 , 0.0\n",
      "God forbid lyknx Rafa Benitez \t How can chelsea fans still hate benitez #### 1.0 , 0.0 , 0.0\n",
      "Rafa Benitez I must thank you \t I am so happy for RAFA BENITEZ VictorMoses and Mikel #### 1.0 , 0.0 , 0.0\n",
      "Rafa Benitez I must thank you \t Once a red always a blue rafa Benitez we want you #### 1.0 , 0.0 , 0.0\n",
      "THANK YOU SO MUCH RAFA BENITEZ \t Benitez is alright tho man fuck chelsea fans they suck asshole #### 1.0 , 0.0 , 0.0\n",
      "Big 12SEC announce basketball challenge \t Bill Self to the Big 12 #### 1.0 , 0.0 , 0.0\n",
      "Big 12SEC announce basketball challenge \t The Big 12 just got a whole lot more interesting #### 1.0 , 0.0 , 0.0\n",
      "Kansas just won the Big 12 championship again \t He can fuck up the Big 12 all he wants #### 1.0 , 0.0 , 0.0\n",
      "Kansas just won the Big 12 championship again \t So what if the Big 12 had 14 teams #### 1.0 , 0.0 , 0.0\n",
      "Sorry to the rest of the big 12 \t And Kansas once again will win the Big 12 #### 1.0 , 0.0 , 0.0\n",
      "The big 12 is about to be so stacked next year \t How many of those who were handing the Big 12 to Okla #### 1.0 , 0.0 , 0.0\n",
      "will prolly win the Big 12 \t No reason Kansas should lose a game in the big 12 #### 1.0 , 0.0 , 0.0\n",
      "will prolly win the Big 12 \t The whole Big 12 but Okiestate in particular just lost their minds #### 1.0 , 0.0 , 0.0\n",
      "well the big 12 just got decided \t to win the big 12 in all three major sports in the same year #### 1.0 , 0.0 , 0.0\n",
      "well the big 12 just got decided \t So Wiggins Is Settling For Playing In The Garbage Ass Big 12 #### 1.0 , 0.0 , 0.0\n",
      "Just wish he wasnt in the Big 12 \t Big 12 is gonna be exciting #### 1.0 , 0.0 , 0.0\n",
      "Just wish he wasnt in the Big 12 \t the BIG 12 goes through LAWRENCE #### 1.0 , 0.0 , 0.0\n",
      "Yeah CHALMERS that s a foul \t Allen Bosh Chalmers James at Wade #### 1.0 , 0.0 , 0.0\n",
      "Yeah CHALMERS that s a foul \t Chalmers makes me mad low key #### 1.0 , 0.0 , 0.0\n",
      "Yeah CHALMERS that s a foul \t Chalmers steady chasing on defense #### 1.0 , 0.0 , 0.0\n",
      "Yeah CHALMERS that s a foul \t I like Cole s onball defense better than Chalmers #### 1.0 , 0.0 , 0.0\n",
      "And now chalmers with the scoop layup \t Anybody see David West Elbow the hell out of Chalmers bad shoulder #### 1.0 , 0.0 , 0.0\n",
      "Mario Chalmers pissin me off \t MARIO CHALMERS JUST THREW IT TO HIS COACH HAHAHA #### 1.0 , 0.0 , 0.0\n",
      "Mario Chalmers pissin me off \t Spo aint in the game chalmers #### 1.0 , 0.0 , 0.0\n",
      "Mario Chalmers pissin me off \t Chalmers throws it out of bounds #### 1.0 , 0.0 , 0.0\n",
      "Mario Chalmers looks like Mario \t Then Chalmers fucks up again lmao #### 1.0 , 0.0 , 0.0\n",
      "Mario Chalmers looks like Mario \t Lucky ass shxt by Chalmers #### 1.0 , 0.0 , 0.0\n",
      "I hate Mario Chalmersdont know why \t Why is Mario Chalmers starting #### 1.0 , 0.0 , 0.0\n",
      "CHALMERS IS THE TURNOVER KING \t Didnt everyone love Mario Chalmers last year #### 1.0 , 0.0 , 0.0\n",
      "Chalmers is always complaining to the refs \t LMFAOOO who tf you throwing to Chalmers #### 1.0 , 0.0 , 0.0\n",
      "Chalmers is always complaining to the refs \t This is like the 27th time chalmers fucked up #### 1.0 , 0.0 , 0.0\n",
      "Chalmers is always complaining to the refs \t Chalmers would lock you down bubs #### 1.0 , 0.0 , 0.0\n",
      "Chalmers is always complaining to the refs \t Mario Chalmers is easily my worst favorite player in the NBA #### 1.0 , 0.0 , 0.0\n",
      "The fuck Chalmers is doing \t Do I watch the game or Chalmers face #### 1.0 , 0.0 , 0.0\n",
      "The fuck Chalmers is doing \t Uhm Chalmers didnt just travel #### 1.0 , 0.0 , 0.0\n",
      "watching chara go down is the best feeling \t Chara s playing with hate in heart #### 1.0 , 0.0 , 0.0\n",
      "Chara is 69 Holy shit \t Okay who else saw that beauty hit to chara by orr #### 1.0 , 0.0 , 0.0\n",
      "Chara is 69 Holy shit \t Amazing how bad Chara looks when the speed of the game picks up #### 1.0 , 0.0 , 0.0\n",
      "Orr with a big hit on Chara \t Chara penalty on the play #### 1.0 , 0.0 , 0.0\n",
      "Orr with a big hit on Chara \t Chara called for a high stick on the play too #### 1.0 , 0.0 , 0.0\n",
      "but orr keeps pushing chara \t Why is Chara allowed to take down people without the puck #### 1.0 , 0.0 , 0.0\n",
      "except Im in Chicago at the moment \t When do you plan to be at 600 W Chicago next #### 1.0 , 0.0 , 0.0\n",
      "except Im in Chicago at the moment \t Big game 7 here in Chicago tonight #### 1.0 , 0.0 , 0.0\n",
      "except Im in Chicago at the moment \t I checked in at Chicago Park District #### 1.0 , 0.0 , 0.0\n",
      "See you in Chicago Dierks \t I really wanna do the color run in Chicago lol #### 1.0 , 0.0 , 0.0\n",
      "See you in Chicago Dierks \t I am watching Chicago Fire A Hell of a Ride #### 1.0 , 0.0 , 0.0\n",
      "Im just saying game 7 in Chicago \t Wings in a must win in Chicago #### 1.0 , 0.0 , 0.0\n",
      "Game 7 in Chicago tonight \t bro you in chicago widdit yet #### 1.0 , 0.0 , 0.0\n",
      "Good week to be a Northsiderrr in Chicago \t go to north coast in chicago its way cheaper and the same weekend #### 1.0 , 0.0 , 0.0\n",
      "Good week to be a Northsiderrr in Chicago \t Leaving early tomorrow morning to go to the Hospital in Chicago #### 1.0 , 0.0 , 0.0\n",
      "Ahh Obama s in Chicago \t youre in Chicago and were here to say nokxl #### 1.0 , 0.0 , 0.0\n",
      "I cannot WAIT to go to Chicago \t Chicago is saying this todayEven nonhockey fans #### 1.0 , 0.0 , 0.0\n",
      "I cannot WAIT to go to Chicago \t It was a day of impulse buys in Chicago #### 1.0 , 0.0 , 0.0\n",
      "Yes yo CHRIS DAVIS IS BATS \t Is that Chris Davis out there #### 1.0 , 0.0 , 0.0\n",
      "Wow Chris Davis is only 27 \t Chris Davis actually reminds me of Hamilton at the plate #### 1.0 , 0.0 , 0.0\n",
      "Chris Davis rules the Yard tonight \t So um Chris Davis you guys #### 1.0 , 0.0 , 0.0\n",
      "Chris Davis rules the Yard tonight \t So happy Chris Davis is on my fantasy team #### 1.0 , 0.0 , 0.0\n",
      "Chris Davis is way to nice \t Is Chris Davis a top 5 hitter in baseball right now #### 1.0 , 0.0 , 0.0\n",
      "Chris Davis is way to nice \t WHAT THE HELL DOES CHRIS DAVIS EAT FOR BREAKFAST #### 1.0 , 0.0 , 0.0\n",
      "Chris Davis is on the roids BIG TIME \t Ayo smh Chris Davis TEACH ME #### 1.0 , 0.0 , 0.0\n",
      "Chris Davis is on the roids BIG TIME \t When is the Chris Davis ped suspension coming #### 1.0 , 0.0 , 0.0\n",
      "Chris Davis is on the roids BIG TIME \t Chris Davis is on pace for about 56 HRs #### 1.0 , 0.0 , 0.0\n",
      "Chris Davis is on the roids BIG TIME \t Im borderline gay for Chris Davis #### 1.0 , 0.0 , 0.0\n",
      "Chris Davis is on the roids BIG TIME \t Wow is Chris Davis seriously leading the MLB in Home runs this year #### 1.0 , 0.0 , 0.0\n",
      "Chris Davis is on the roids BIG TIME \t Does anyone have a smoother HR swing than Chris Davis #### 1.0 , 0.0 , 0.0\n",
      "Chris Davis is putting the team on his back \t Get to see Chris Davis tomorrow #### 1.0 , 0.0 , 0.0\n",
      "Chris Davis is putting the team on his back \t My god Chris Davis is an animal #### 1.0 , 0.0 , 0.0\n",
      "Chris Davis is putting the team on his back \t why is chris davis such a babe #### 1.0 , 0.0 , 0.0\n",
      "chris davis is 44 with two bombs \t Chris Davis of the Orioles is better than you at hitting #### 1.0 , 0.0 , 0.0\n",
      "Wait Chris Davis is coming to Catonsville \t Chris Davis is an absolute animal #### 1.0 , 0.0 , 0.0\n",
      "Diddy Drops A New Flavor Of CIROC \t ALERT ALERT ALERT ITS A NEW CIROC OUT #### 0.0 , 1.0 , 1.0\n",
      "it s a Ciroc new flavor \t Ciroc is shit vodka anyway #### 1.0 , 0.0 , 0.0\n",
      "it s a new ciroc flavor \t what was wrong with that Ciroc tho #### 1.0 , 0.0 , 0.0\n",
      "it s a new ciroc flavor \t That new Ciroc flavor gon set the streets on fire #### 1.0 , 0.0 , 0.0\n",
      "The new Ciroc flavor has arrived \t Lol word NickLoMax New ciroc flavor drop on a 90 degree day #### 1.0 , 0.0 , 0.0\n",
      "New Amaretto Ciroc coming out \t you the spokesperson for Ciroc b #### 1.0 , 0.0 , 0.0\n",
      "I like that berry ciroc \t New flavor of ciroc coming doe #### 1.0 , 0.0 , 0.0\n",
      "Ask yourself this is America in Europe \t All Europe watch this show right now #### 1.0 , 0.0 , 0.0\n",
      "Ask yourself this is America in Europe \t Sure in Greece the alcohol is free when the rest of Europe pays it #### 1.0 , 0.0 , 0.0\n",
      "Ask yourself this is America in Europe \t Doubt theyll be the same for the rest of Europe #### 1.0 , 0.0 , 0.0\n",
      "Ask yourself this is America in Europe \t everyone else in Europe chips in to pay for it #### 1.0 , 0.0 , 0.0\n",
      "Please Europe vote forAzerbaijan in Eurovision2013 \t Could someone please tell eastern europe the Shakira dream is over #### 1.0 , 0.0 , 0.0\n",
      "That s what were watching in Europe \t If only England was in Europe #### 1.0 , 0.0 , 0.0\n",
      "Family Guy is fucking weird lol \t Family guy on black women in hindsight is so funny #### 1.0 , 0.0 , 0.0\n",
      "I wish family guy was on right now \t If anyone s watching family guy this episode is so gay SeeWhatIDidTheir lol #### 1.0 , 0.0 , 0.0\n",
      "Family guy is KILLING it tonight \t Eating My Ultimate Bacon Cheeseburger Watching Family Guy #### 1.0 , 0.0 , 0.0\n",
      "family guy is trending in the US \t Family Guy never fails at making me laugh #### 1.0 , 0.0 , 0.0\n",
      "family guy is trending in the US \t I swear Fuck Family Guy for being that funny tonight #### 1.0 , 0.0 , 0.0\n",
      "family guy is trending in the US \t Yeah I refuse to give Family Guy credit for anything original #### 1.0 , 0.0 , 0.0\n",
      "family guy is trending in the US \t Family guy is so racist or maybe they just point out the racism in America #### 1.0 , 0.0 , 0.0\n",
      "This episode of family guy is FREAKING ME OUT \t It was just on my tv lol I was watching family guy Paaigeenicolee #### 1.0 , 0.0 , 0.0\n",
      "The creator of family guy is a genius \t I love Family Guy but I cant stand the theme song #### 1.0 , 0.0 , 0.0\n",
      "The creator of family guy is a genius \t oomf has me hooked on watching family guy #### 1.0 , 0.0 , 0.0\n",
      "Family guy is really a reality show \t all i watch is family guy #### 1.0 , 0.0 , 0.0\n",
      "I see everybody watching family guy tonight \t I havent watched Family Guy in forever #### 1.0 , 0.0 , 0.0\n",
      "Omg Family Guy is killing me right now \t OMG we were quoting family guy #### 1.0 , 0.0 , 0.0\n",
      "Omg Family Guy is killing me right now \t Family Guy hasnt been funny for a long time #### 1.0 , 0.0 , 0.0\n",
      "Have to be home to watch game 7 tonight \t If youre not planning to watch game 7 of the Blackhawks vs #### 1.0 , 0.0 , 0.0\n",
      "game 7 in a few hours \t Open Post Game 7 Detroit vs #### 1.0 , 0.0 , 0.0\n",
      "game 7 in a few hours \t Going to try taping Game 7 and watching it after softball #### 1.0 , 0.0 , 0.0\n",
      "game 7 in a few hours \t hawks game 7 in the chi #### 1.0 , 0.0 , 0.0\n",
      "game 7 in a few hours \t Game 7 should be a good one #### 1.0 , 0.0 , 0.0\n",
      "game 7 in a few hours \t 2nd Game 7 in two nights #### 1.0 , 0.0 , 0.0\n",
      "where are the jobs GOP \t Why is it GOP s job #### 1.0 , 0.0 , 0.0\n",
      "where are the jobs GOP \t What more did GOP want #### 1.0 , 0.0 , 0.0\n",
      "Pitcher Travis Wood of the Cubs just hit a grand slam \t Elvis didnt hit a grand slam SMH #### 1.0 , 0.0 , 0.0\n",
      "Today Travis Wood hits a grand slam \t throwing a gem and hitting a grand slam #### 1.0 , 0.0 , 0.0\n",
      "This app is for google chat on iOS \t new google maps looks similar to ios app #### 1.0 , 0.0 , 0.0\n",
      "We launched Google Maps For iOS \t Google launches API for Android and iOS game save data #### 1.0 , 0.0 , 0.0\n",
      "Android caught up to iOS \t Why doesnt the Google app for iOS start in Now #### 1.0 , 0.0 , 0.0\n",
      "for android and IOS will be free \t BlackBerry Messenger Soon To Be Made Available On Android And iOS Devices #### 1.0 , 0.0 , 0.0\n",
      "for android and IOS will be free \t Android is better than iOS #### 1.0 , 0.0 , 0.0\n",
      "But youre not in Japan \t The girl next to me in science doesnt know where japan is #### 1.0 , 0.0 , 0.0\n",
      "omg what time is it in Japan \t When they come to Japan #### 1.0 , 0.0 , 0.0\n",
      "I will get to Japan \t but soon they will fly to japan #### 1.0 , 0.0 , 0.0\n",
      "Why does he have to be in Japan \t Some crazy shit must be happening in Japan at the moment #### 1.0 , 0.0 , 0.0\n",
      "Why does he have to be in Japan \t How s Japan treating ya #### 1.0 , 0.0 , 0.0\n",
      "wait it s already Friday in Japan \t They arrived in Japan yesterday #### 1.0 , 0.0 , 0.0\n",
      "Have you good Time in Japan \t If youre cool youd try to get me out to Japan in every way possible #### 1.0 , 0.0 , 0.0\n",
      "have a nice day in JAPAN \t Hope all is well in Japan #### 1.0 , 0.0 , 0.0\n",
      "AustinMahone are you still in Japan \t If Im blessed to wrestle in Japan again #### 1.0 , 0.0 , 0.0\n",
      "AustinMahone are you still in Japan \t i got it in japan #### 1.0 , 0.0 , 0.0\n",
      "Jason Kidd and Grant Hill came in the league the same year \t Atleast Jason Kidd retired with a ring #### 1.0 , 0.0 , 0.0\n",
      "Jason Kidd and Grant Hill came in the league the same year \t Jason Kidd is retiring from the NBA and everyone s acting like he s so old #### 1.0 , 0.0 , 0.0\n",
      "Damn Jason Kidd and Grant Hill retiring together \t Jason Kidd got his ring with the Dallas Mavericks #### 1.0 , 0.0 , 0.0\n",
      "GG Jason Kidd and Grant Hill \t The tweet sounded like Im happy that Jason Kidd retired #### 1.0 , 0.0 , 0.0\n",
      "The NBA will miss Jason Kidd and Grant Hill \t Non other than the GREAT Jason Kidd #### 1.0 , 0.0 , 0.0\n",
      "The NBA will miss Jason Kidd and Grant Hill \t Congrats to bay legend Jason Kidd on an amazing career #### 1.0 , 0.0 , 0.0\n",
      "Jason kidd is not a legend \t Jason Kidd and Grant Hill retires together #### 1.0 , 0.0 , 0.0\n",
      "Jason kidd is not a legend \t Dang first Grant Hill then Jason Kidd #### 1.0 , 0.0 , 0.0\n",
      "Jason kidd is not a legend \t Jason Kidd There s a difference between playing and competing #### 1.0 , 0.0 , 0.0\n",
      "Jason kidd is not a legend \t Congrats to bay legend Jason Kidd on an amazing career #### 1.0 , 0.0 , 0.0\n",
      "GG Jason Kidd and Grant Hill \t Jason Kidd us retiring after 19 years on the court #### 1.0 , 0.0 , 0.0\n",
      "GG Jason Kidd and Grant Hill \t Jason Kidd Grant Hill retiring are just another indication that the 90 s NBA is gone #### 1.0 , 0.0 , 0.0\n",
      "GG Jason Kidd and Grant Hill \t Jason Kidd really my dawg though #### 1.0 , 0.0 , 0.0\n",
      "Is Lydia a classy hoe \t DID YOU KNOW THAT Lydia IS TRENDING WW #### 1.0 , 0.0 , 0.0\n",
      "Is Lydia a classy hoe \t Lydia is just too much for us all to handle huh #### 1.0 , 0.0 , 0.0\n",
      "What s Lydia personality like \t NICKIMINAJ is Lydia a bad bitch or just a dorky assistant #### 1.0 , 0.0 , 0.0\n",
      "What s Lydia personality like \t Cuz Lydia was on twitter #### 1.0 , 0.0 , 0.0\n",
      "What s Lydia personality like \t Aint nobody gonna play Lydia tho #### 1.0 , 0.0 , 0.0\n",
      "What s Lydia personality like \t Lydia is such a cool name #### 1.0 , 0.0 , 0.0\n",
      "What s Lydia personality like \t Nicki Doesnt Look Like a Lydia lol #### 1.0 , 0.0 , 0.0\n",
      "What s Lydia personality like \t Ok is Lydia a freak or what #### 1.0 , 0.0 , 0.0\n",
      "The BOSS BITCH Lydia is in the House \t So why is Lydia on her 3rd marriage in the movie #### 1.0 , 0.0 , 0.0\n",
      "Lydia is now trending WW \t Lydia is a cute as fuck name tho #### 1.0 , 0.0 , 0.0\n",
      "What is Lydia s personality like \t I think Lydia is actually cute classy #### 1.0 , 0.0 , 0.0\n",
      "What is Lydia s personality like \t The fact that we got Lydia to trend is just #### 1.0 , 0.0 , 0.0\n",
      "What is Lydia s personality like \t i knew some little girl name Lydia her fast ass #### 1.0 , 0.0 , 0.0\n",
      "Lydia Seems Like A Classy Name \t But I agree lydia the beat is good #### 1.0 , 0.0 , 0.0\n",
      "Lydia Seems Like A Classy Name \t You dont look like a Lydia tho #### 1.0 , 0.0 , 0.0\n",
      "Can I taste you Lydia \t MYYYYYYYYYY QUEEEEEEN Describe a little about LYDIADescribe a little about LYDIA #### 1.0 , 0.0 , 0.0\n",
      "Lydia is a GROOOOOOOWN woman \t Bring back James and Lydia #### 1.0 , 0.0 , 0.0\n",
      "Lydia is a GROOOOOOOWN woman \t lydia is already famous shit #### 1.0 , 0.0 , 0.0\n",
      "Lydia is a GROOOOOOOWN woman \t Lydia is trending WW I cant #### 1.0 , 0.0 , 0.0\n",
      "Lydia is a GROOOOOOOWN woman \t Lydia is messing with my feelings so bad #### 1.0 , 0.0 , 0.0\n",
      "I Hope Lydia Is Not The Other Woman \t I wonder does Lydia have kids #### 1.0 , 0.0 , 0.0\n",
      "I Hope Lydia Is Not The Other Woman \t Lydia is such a cool name #### 1.0 , 0.0 , 0.0\n",
      "I Hope Lydia Is Not The Other Woman \t You got Lydia trending WORLDWIDE though Nic #### 1.0 , 0.0 , 0.0\n",
      "Checking up the new prices for Macbook Air \t Welp I think I finally want a Macbook Air #### 1.0 , 0.0 , 0.0\n",
      "Checking up the new prices for Macbook Air \t The battery life on the MacBook Air tho #### 1.0 , 0.0 , 0.0\n",
      "Pricing of the new Haswellbased MacBook Air \t Should I buy one of those shiny new macbook air #### 1.0 , 0.0 , 0.0\n",
      "Pricing of the new Haswellbased MacBook Air \t But I do want the new MacBook Air #### 1.0 , 0.0 , 0.0\n",
      "Pricing of the new Haswellbased MacBook Air \t new Macbook Air uses Haswell Safari doesn t suck as #### 1.0 , 0.0 , 0.0\n",
      "Pricing of the new Haswellbased MacBook Air \t There s new macbook air but not for macbook pro #### 1.0 , 0.0 , 0.0\n",
      "New MacBook Air no new MacBook Pro \t MacBook Air is the way to go #### 1.0 , 0.0 , 0.0\n",
      "Apple introduced a new MacBook Air today \t like iPhone iPad and Macbook Air #### 1.0 , 0.0 , 0.0\n",
      "just new software for now and a new MacBook Air and Mac Pro \t Im only reading about the Macbook Air update #### 1.0 , 0.0 , 0.0\n",
      "just new software for now and a new MacBook Air and Mac Pro \t Cant wait to get iOS 7 and possibly a MacBook Air #### 1.0 , 0.0 , 0.0\n",
      "just new software for now and a new MacBook Air and Mac Pro \t Unimpressed with iOS7 but do I ever want a new Mac Pro and MacBook Air #### 1.0 , 0.0 , 0.0\n",
      "The Marlins defeated the Mets 43 in 20 innings \t The yankees cant beat a team that cant beat the marlins #### 1.0 , 0.0 , 0.0\n",
      "Damn the MetsMarlins game went 20 innings \t Dont the Mets and Marlins also have to play a double header tomorrow #### 1.0 , 0.0 , 0.0\n",
      "Mets arent going to the World Series \t Actually excited to watch the mets game tonight #### 1.0 , 0.0 , 0.0\n",
      "Mets arent going to the World Series \t The NY Mets edged up the NY Yankees 21 to kick off the Su #### 1.0 , 0.0 , 0.0\n",
      "Mets arent going to the World Series \t the Yankees lose to the Mets AND give up 1st place to the Red Sox #### 1.0 , 0.0 , 0.0\n",
      "what channel is the mets game on \t The Mets simply dont get it sometimes #### 1.0 , 0.0 , 0.0\n",
      "what channel is the mets game on \t The Mets have asked Mariano Rivera to throw the ceremonial first pitch #### 1.0 , 0.0 , 0.0\n",
      "Hope the Mets and Yankees still play tonight \t Mets ask Mariano Rivera to throw out the first pitch in tonight s NYMNYY game #### 1.0 , 0.0 , 0.0\n",
      "Hope the Mets and Yankees still play tonight \t That s the Mets for you #### 1.0 , 0.0 , 0.0\n",
      "he is more than that to the Mets \t Mets are in route for the sweep #### 1.0 , 0.0 , 0.0\n",
      "great sportsmanship on the Mets behalf \t But it s not the Mets job to honor him #### 1.0 , 0.0 , 0.0\n",
      "great sportsmanship on the Mets behalf \t Here s hoping the Mets play this clip 100 times tonight #### 1.0 , 0.0 , 0.0\n",
      "great sportsmanship on the Mets behalf \t Mets have asked Rivera to throw out the first pitch #### 1.0 , 0.0 , 0.0\n",
      "great sportsmanship on the Mets behalf \t Mariano throwing out the first pitch at yanksmets #### 1.0 , 0.0 , 0.0\n",
      "The Mets are 10 games under \t Still gonna get the blue Mets and maybe a Dodgers #### 1.0 , 0.0 , 0.0\n",
      "The Mets are 10 games under \t After HarveyDay the Yanks Mets give it a go at the Stadium #### 1.0 , 0.0 , 0.0\n",
      "The Mets are 10 games under \t the mets asking Mo Rivera to throw out the first pitch #### 1.0 , 0.0 , 0.0\n",
      "ME TOO NIALL I NEED DIE \t NIALL JUST HIT THE FOLLOW BUTTON #### 1.0 , 0.0 , 0.0\n",
      "NIALL I LOVE YOU FOLLOW ME PLEASE \t what you up to today Niall #### 1.0 , 0.0 , 0.0\n",
      "NIALL I LOVE YOU FOLLOW ME PLEASE \t Niall If your online and see this #### 1.0 , 0.0 , 0.0\n",
      "NIALL I LOVE YOU FOLLOW ME PLEASE \t I think Niall fell asleep again #### 1.0 , 0.0 , 0.0\n",
      "Niall I just want you to notice me \t i hate mornings too Niall #### 1.0 , 0.0 , 0.0\n",
      "Niall I just want you to notice me \t ow Niall I couldnt have see you in the Netherlands my hearts was broken #### 1.0 , 0.0 , 0.0\n",
      "Niall I just want you to notice me \t Im meeting Harry Louis Liam Zayn and Niall #### 1.0 , 0.0 , 0.0\n",
      "Niall I just want you to notice me \t I love morning why you hate it niall #### 1.0 , 0.0 , 0.0\n",
      "Niall I just want you to notice me \t NiallOfficial are you tired niall #### 1.0 , 0.0 , 0.0\n",
      "NIALL YOU SHOULD FOLLOW US \t Niall I hate time zones so much #### 1.0 , 0.0 , 0.0\n",
      "NIALL YOU SHOULD FOLLOW US \t i dont know michael but im have a feeling niall will #### 1.0 , 0.0 , 0.0\n",
      "NIALL YOU SHOULD FOLLOW US \t I know you probably wont see this Niall but I love you so much #### 1.0 , 0.0 , 0.0\n",
      "I love morning why you hate it niall \t NIALL PLEASE FOLLOW ME IM ABOUT TO GIVE UP #### 1.0 , 0.0 , 0.0\n",
      "Niall I just want you to notice me \t NIALL PLEASE FOLLOW ME AND KHLARICA #### 1.0 , 0.0 , 0.0\n",
      "The POTUS stay getting heckled \t Youre not listening to POTUS #### 1.0 , 0.0 , 0.0\n",
      "The POTUS stay getting heckled \t What a LET DOWN shifting from our POTUS to The Cycle #### 1.0 , 0.0 , 0.0\n",
      "I love twitter during the POTUS speeches \t I swear what a POTUS BEST IN MY LIFETIME #### 1.0 , 0.0 , 0.0\n",
      "I think potus is on drugs \t POTUS is the one who is effective #### 1.0 , 0.0 , 0.0\n",
      "Who in the HELL is the woman interrupting the POTUS \t Allowing her to emphasize what POTUS wants to do #### 1.0 , 0.0 , 0.0\n",
      "what the hell is potus talking about \t Millions of people across the US have questions they want to ask POTUS #### 1.0 , 0.0 , 0.0\n",
      "what the hell is potus talking about \t Meanwhile the POTUS calm as ever #### 1.0 , 0.0 , 0.0\n",
      "13 May 2013 Roberto Mancini sacked as Man City Manager \t I like Roberto Mancini as a manager #### 1.0 , 0.0 , 0.0\n",
      "So Roberto Mancini has been officially sacked as Man City s manager \t Roberto Mancini wins the Premier League with Man City for the first time since 68 #### 1.0 , 0.0 , 0.0\n",
      "Manchester City statement on the sacking of Roberto Mancini \t Man City win the League for the first time in 44 years under Roberto Mancini #### 1.0 , 0.0 , 0.0\n",
      "I WAS going to San Diego tomorrow \t Hey move to San Diego and date me k #### 1.0 , 0.0 , 0.0\n",
      "I WAS going to San Diego tomorrow \t Rock N Roll Marathon this weekend in San Diego #### 1.0 , 0.0 , 0.0\n",
      "Party bus to San Diego tomorrow \t The San Diego Experiences Daily is out #### 1.0 , 0.0 , 0.0\n",
      "Party bus to San Diego tomorrow \t San Diego California is so lucky to have this sweet boy in August #### 1.0 , 0.0 , 0.0\n",
      "Im going to MCRD San Diego in 1 month \t Quick have you been to San Diego #### 1.0 , 0.0 , 0.0\n",
      "My 2 little cousins in San Diego \t Just passed the exit for San Diego #### 1.0 , 0.0 , 0.0\n",
      "My 2 little cousins in San Diego \t can i just leave to san diego already for the summer #### 1.0 , 0.0 , 0.0\n",
      "Finally IMPACTWRESTLING is coming to San Diego \t San Diego can be a little sketch in some parts so be careful #### 1.0 , 0.0 , 0.0\n",
      "Finally IMPACTWRESTLING is coming to San Diego \t Shout out to this kid treykell representing San Diego s SDA this weekend at the PangosAllAmericanCamp #### 1.0 , 0.0 , 0.0\n",
      "In San Diego to tape the Rick Amato Show in the morning \t Can aauthorsmusic please come to San Diego #### 1.0 , 0.0 , 0.0\n",
      "Were supposed to be in San Diego in August \t Ill DM you my itineraryIm going to adamlambert s concert in San Diego #### 1.0 , 0.0 , 0.0\n",
      "Were supposed to be in San Diego in August \t San Diego for the Fourth of July #### 1.0 , 0.0 , 0.0\n",
      "Were supposed to be in San Diego in August \t Look forward to seeing you San Diego #### 1.0 , 0.0 , 0.0\n",
      "Going to San Diego comic con \t 1littleliongirl have fun in San Diego #### 1.0 , 0.0 , 0.0\n",
      "sarah Palin at the IndyMia game \t Sarah Palin getting a lot of boos on the jumbotron #### 1.0 , 0.0 , 0.0\n",
      "Great Sarah Palin is at the Pacers game jinx on Indiana \t They booed the hell out Sarah Palin #### 1.0 , 0.0 , 0.0\n",
      "Great Sarah Palin is at the Pacers game jinx on Indiana \t I want to sit next to Sarah Palin #### 1.0 , 0.0 , 0.0\n",
      "I wonder if Sarah Palin is at the game \t SARAH PALIN JUST GOT BOOED ON THE CELEB CAM #### 1.0 , 0.0 , 0.0\n",
      "I wonder if Sarah Palin is at the game \t Sarah Palin was booed loudly in INDIANA #### 1.0 , 0.0 , 0.0\n",
      "I wonder if Sarah Palin is at the game \t Dont know if I like the pacers Sarah Palin is #### 1.0 , 0.0 , 0.0\n",
      "Sarah Palin is at the Heat v Pacers playoff game \t Sarah Palin can give me the neck thooooo #### 1.0 , 0.0 , 0.0\n",
      "Eww Sarah Palin is at the Pacers game \t I wish Sarah Palin had a sextape #### 1.0 , 0.0 , 0.0\n",
      "Shonda Rhimes has to be getting paid \t Shonda is killing me with this #### 1.0 , 0.0 , 0.0\n",
      "Shonda Rhimes has to be getting paid \t Lmbo Shonda Rhimes did that #### 1.0 , 0.0 , 0.0\n",
      "Shonda Rhimes has to be getting paid \t Shonda just fucked us raw #### 1.0 , 0.0 , 0.0\n",
      "Shonda is a freaking genius \t Shonda Rhimes is black woman #### 1.0 , 0.0 , 0.0\n",
      "Shonda Rhimes is a great writer \t All i saw was shonda this shonda that #### 1.0 , 0.0 , 0.0\n",
      "wtf is going on shonda \t So Shonda did Grey s AND Scandal #### 1.0 , 0.0 , 0.0\n",
      "wtf is going on shonda \t Shonda bank account about to catch up with Oprahs #### 1.0 , 0.0 , 0.0\n",
      "wtf is going on shonda \t Shonda Rhimes is doing the absolutely MOST #### 1.0 , 0.0 , 0.0\n",
      "Shonda Rhimes is a sadist \t The fact that Shonda Rhimes is trending right now is actually hilarious #### 1.0 , 0.0 , 0.0\n",
      "Shonda is cruel like that \t I want to know Shonda s relationship perspectives on black men #### 1.0 , 0.0 , 0.0\n",
      "SHONDA RHIMES is trending on twitter \t What this shonda jont do #### 1.0 , 0.0 , 0.0\n",
      "Why is Star Wars on the tv tho \t I fucking feel bad for mother fuckers that havent seen star wars #### 1.0 , 0.0 , 0.0\n",
      "when is a star wars movie not on \t am I the only one who thinks Star Wars is dumb af #### 1.0 , 0.0 , 0.0\n",
      "when is a star wars movie not on \t Star Wars is on so I guess there s my night #### 1.0 , 0.0 , 0.0\n",
      "when is a star wars movie not on \t is it weird that i love star wars #### 1.0 , 0.0 , 0.0\n",
      "Star Wars on the other hand \t Star Wars will NEVER get old #### 1.0 , 0.0 , 0.0\n",
      "Star Wars on the other hand \t Anyone up for a Star Wars marathon #### 1.0 , 0.0 , 0.0\n",
      "Hell yeah Star Wars is on \t You should be the one doing the next Star Wars movies #### 1.0 , 0.0 , 0.0\n",
      "Hell yeah Star Wars is on \t And I dont know if I still have the Star Wars movies either #### 1.0 , 0.0 , 0.0\n",
      "Star Wars is on at the gym \t your making me want to go watch star wars now #### 1.0 , 0.0 , 0.0\n",
      "Which Star Wars episode should I watch \t I have so much of a life that Im at home watching Star Wars #### 1.0 , 0.0 , 0.0\n",
      "Which Star Wars episode should I watch \t My parents are watching Star Wars #### 1.0 , 0.0 , 0.0\n",
      "when is a star wars movie not on \t The Phantom Menace is no one s favorite Star Wars movie #### 1.0 , 0.0 , 0.0\n",
      "Why did I just eat Taco Bell \t All this taco bell talk is making me hungry #### 1.0 , 0.0 , 0.0\n",
      "I see you Taco Bell I see you \t Taco Bell over McDonald s any day #### 1.0 , 0.0 , 0.0\n",
      "Crafting and Taco Bell with the girls \t Now Taco Bell s closed what a day Im having #### 1.0 , 0.0 , 0.0\n",
      "Crafting and Taco Bell with the girls \t I write ballads about Taco Bell #### 1.0 , 0.0 , 0.0\n",
      "I just had the best Taco Bell ever \t I have KFC Taco Bell and Chinese food in my refrigerator #### 1.0 , 0.0 , 0.0\n",
      "I just had the best Taco Bell ever \t Went to Taco Bell once and ordered in Mexican #### 1.0 , 0.0 , 0.0\n",
      "I just had the best Taco Bell ever \t It s 1236 and they guy in the Taco Bell drive thru denied me tacos #### 1.0 , 0.0 , 0.0\n",
      "I just had the best Taco Bell ever \t I dont understand how people eat Taco Bell as frequently as they do #### 1.0 , 0.0 , 0.0\n",
      "Mackay is buying me taco bell \t I need to run to Taco Bell and stop playing lol #### 1.0 , 0.0 , 0.0\n",
      "I just went to Taco Bell for one taco \t To have Taco Bell or to not have Taco Bell #### 1.0 , 0.0 , 0.0\n",
      "I just went to Taco Bell for one taco \t I will brin them Taco Bell chipotle soo they let me stay #### 1.0 , 0.0 , 0.0\n",
      "I just went to Taco Bell for one taco \t Someone called Taco Bell beat boxing #### 1.0 , 0.0 , 0.0\n",
      "I am getting taco bell tomorrow \t Omg and she bought me taco bell #### 1.0 , 0.0 , 0.0\n",
      "I trust this fool at Taco Bell to get my order right \t ahhhh shit my dad got me Taco Bell #### 1.0 , 0.0 , 0.0\n",
      "I trust this fool at Taco Bell to get my order right \t Treating myself to some Taco Bell #### 1.0 , 0.0 , 0.0\n",
      "I trust this fool at Taco Bell to get my order right \t Shoot now I just want Taco Bell #### 1.0 , 0.0 , 0.0\n",
      "no you live in Texas \t Hoping to go to Texas this summer #### 1.0 , 0.0 , 0.0\n",
      "bring the UFC back to south texas \t When are you coming back to Texas #### 1.0 , 0.0 , 0.0\n",
      "I should move back to Texas myself \t Ive got to get out of east Texas #### 1.0 , 0.0 , 0.0\n",
      "I should move back to Texas myself \t Im sure youre having fun in Texas #### 1.0 , 0.0 , 0.0\n",
      "Going to see the Purge this weekend \t Of Course I Had Dreams About The Purge All Night #### 1.0 , 0.0 , 0.0\n",
      "I want to go to the movies tonight and see the purge \t That s so bad about the purge #### 1.0 , 0.0 , 0.0\n",
      "I want to go to the movies tonight and see the purge \t People thought The Purge was a comedy #### 1.0 , 0.0 , 0.0\n",
      "I want to go to the movies tonight and see the purge \t So the purge aint worth it #### 1.0 , 0.0 , 0.0\n",
      "I want to watch the purge tonight \t It s about to the purge up in this bitch #### 1.0 , 0.0 , 0.0\n",
      "Ahhh I want to see the purge tonight \t Everybody keep saying The Purge was lame #### 1.0 , 0.0 , 0.0\n",
      "Thornton with a glorious chance \t Break his fucking arm Thornton #### 1.0 , 0.0 , 0.0\n",
      "Thornton with a glorious chance \t thornton is an absolute animal #### 1.0 , 0.0 , 0.0\n",
      "Thornton with a glorious chance \t Bout time Thornton dropped the gloves #### 1.0 , 0.0 , 0.0\n",
      "Dorsett just called Thornton a C sucker \t ya im a big fan on Thornton #### 1.0 , 0.0 , 0.0\n",
      "Dorsett just called Thornton a C sucker \t Thornton with a glorious chance #### 1.0 , 0.0 , 0.0\n",
      "That a boy Shawn Thornton \t Thornton is such a bitch for a big guy #### 1.0 , 0.0 , 0.0\n",
      "Thornton giving it to Dorsett \t Thornton is just a shit chris neil #### 1.0 , 0.0 , 0.0\n",
      "Terrible things happening in Turkey \t dont be three monkey aganist violence in Turkey #### 1.0 , 0.0 , 0.0\n",
      "to see what really is going on in Turkey \t u know this is a widespread problem in Turkey #### 1.0 , 0.0 , 0.0\n",
      "to see what really is going on in Turkey \t It is disgusting what is happening in Turkey #### 1.0 , 0.0 , 0.0\n",
      "You want minorities to rule in Turkey \t Turkeys geziparki And Similarities With Other Social MediaDriven Protests #### 1.0 , 0.0 , 0.0\n",
      "You want minorities to rule in Turkey \t A lot of stuff happening in Turkey #### 1.0 , 0.0 , 0.0\n",
      "You want minorities to rule in Turkey \t Watch out comrades the CIA has many operatives in Turkey #### 1.0 , 0.0 , 0.0\n",
      "Pray for the revolutionaries in Turkey Syria and palestine \t What the hell is going on in Turkey #### 1.0 , 0.0 , 0.0\n",
      "I want a turkey sandwich \t Dont serve me turkey bacon and expect respect #### 1.0 , 0.0 , 0.0\n",
      "I want a turkey sandwich \t if you support the innocent people of Turkey #### 1.0 , 0.0 , 0.0\n",
      "Children are dying in Turkey \t Keep an eye on Turkey and also those injured in your thoughts #### 1.0 , 0.0 , 0.0\n",
      "now udonis haslem is the heart and soul of the heat \t they realized it was udonis haslem s house #### 1.0 , 0.0 , 0.0\n",
      "now udonis haslem is the heart and soul of the heat \t Udonis Haslem is the upgraded version of Zydrunas jondeuce #### 1.0 , 0.0 , 0.0\n",
      "What is up with Udonis Haslem s beard \t Smoke em if Udonis Haslem lol #### 1.0 , 0.0 , 0.0\n",
      "Udonis Haslem is killing the Pacers by himself \t Only player I respect on the Heat is Udonis Haslem #### 1.0 , 0.0 , 0.0\n",
      "Udonis Haslem is killing the Pacers by himself \t Udonis Haslem you are one cool customer #### 1.0 , 0.0 , 0.0\n",
      "Udonis haslem is the reason we won tonight \t Udonis Haslem is the Trick Daddy of the NBA #### 1.0 , 0.0 , 0.0\n",
      "Udonis Haslem is on the post game show \t Udonis Haslem had jumped back over the shark #### 1.0 , 0.0 , 0.0\n",
      "Udonis Haslem is on the post game show \t Udonis haslem for sure does crack #### 1.0 , 0.0 , 0.0\n",
      "Udonis haslem is lookin like Hornacek in the fucking corner b \t Is there a better midrange shooter coming off the bench than Udonis Haslem #### 1.0 , 0.0 , 0.0\n",
      "Udonis haslem is lookin like Hornacek in the fucking corner b \t I am a big time fan of Udonis Haslem #### 1.0 , 0.0 , 0.0\n",
      "Udonis Haslem has the ugliest jumper \t Udonis Haslem is the best power forward in the NBA #### 1.0 , 0.0 , 0.0\n",
      "Udonis Haslem has the ugliest jumper \t Udonis Haslem might be my favorite player on the heat #### 1.0 , 0.0 , 0.0\n",
      "Udonis Haslem has the ugliest jumper \t Udonis Haslem is a disgusting human being #### 1.0 , 0.0 , 0.0\n",
      "this is the same Udonis Haslem from the WadeShaq championship \t Why do I dislike Udonis Haslem #### 1.0 , 0.0 , 0.0\n",
      "World of Jenks is one of the best shows on TV \t Watching the world of jenks and the big boy started crying #### 1.0 , 0.0 , 0.0\n",
      "Chad from world of Jenks is the absolute cutest \t The World of Jenks is probably the most realest show Ive ever seen #### 1.0 , 0.0 , 0.0\n",
      "Chad from world of Jenks is the absolute cutest \t So why is World of Jenks on every other week this is so frustrating #### 1.0 , 0.0 , 0.0\n",
      "Chad on The World of Jenks is so freakin sweet \t This World of Jenks finale is sad but in a good way #### 1.0 , 0.0 , 0.0\n",
      "The season finale of World of Jenks is tonight \t World of Jenks is such an amazing TV show #### 1.0 , 0.0 , 0.0\n",
      "The world of jenks is such a real show \t I love Chad on World of Jenks he s great #### 1.0 , 0.0 , 0.0\n",
      "The world of jenks is such a real show \t Chad on The World of Jenks is my favorite person in this whole world #### 1.0 , 0.0 , 0.0\n",
      "The world of jenks is such a real show \t I feel so bad for Chad on World of Jenks #### 1.0 , 0.0 , 0.0\n",
      "WORLD OF JENKS IS ON AT 11 \t World of Jenks is my favorite show on tv #### 1.0 , 0.0 , 0.0\n",
      "WORLD OF JENKS IS ON AT 11 \t The world of jenks got lame real fast #### 1.0 , 0.0 , 0.0\n",
      "ZBo is gettin muddy \t Havent seen ZBo s rainbow jumper this series #### 1.0 , 0.0 , 0.0\n",
      "ZBo is gettin muddy \t you know the story of ZBo the bull #### 1.0 , 0.0 , 0.0\n",
      "ZBo is gettin muddy \t They needed u ZBo #### 1.0 , 0.0 , 0.0\n",
      "ZBo made a jumper \t Damn zbo got crossed up #### 1.0 , 0.0 , 0.0\n",
      "ZBo made a jumper \t ZBo not so much #### 1.0 , 0.0 , 0.0\n",
      "ZBo just got CROSSED over \t ZBo a grown man in the paint #### 1.0 , 0.0 , 0.0\n",
      "ZBo just got CROSSED over \t ZBo Hands r unbelievable #### 1.0 , 0.0 , 0.0\n",
      "ZBo is frustrated with Manu \t ZBo overrated or no #### 1.0 , 0.0 , 0.0\n",
      "zbo is a beast \t Zbo is Zero in this series #### 1.0 , 0.0 , 0.0\n",
      "zbo is a beast \t ZBo is the reason for the end I the grizzles Season #### 1.0 , 0.0 , 0.0\n",
      "This is the Zbo quarter \t but ZBo disappointing every game #### 1.0 , 0.0 , 0.0\n",
      "This is the Zbo quarter \t Love Memphis attitude toward ZBo #### 1.0 , 0.0 , 0.0\n",
      "ZBo 1653 for the series \t If ZBo showed up they wouldve won the series #### 1.0 , 0.0 , 0.0\n",
      "ZBo 1653 for the series \t ZBo s back and the Grindhouse is alive #### 1.0 , 0.0 , 0.0\n",
      "Nobody is outboarding ZBo \t ZBo s play in this series #### 1.0 , 0.0 , 0.0\n",
      "Nobody is outboarding ZBo \t ZBo with a threepoint play #### 1.0 , 0.0 , 0.0\n",
      "Ball dont lie ZBo \t like ZBo isnt excessively physical at times #### 1.0 , 0.0 , 0.0\n",
      "Ball dont lie ZBo \t ZBo Hands r unbelievable #### 1.0 , 0.0 , 0.0\n",
      "Ball dont lie ZBo \t ZBo is the reason for the end I the grizzles Season #### 1.0 , 0.0 , 0.0\n",
      "Ball dont lie ZBo \t If Zbo didnt make that shot #### 1.0 , 0.0 , 0.0\n",
      "The Spurs own ZBo \t ZBo is a fucking scrub #### 1.0 , 0.0 , 0.0\n",
      "The Spurs own ZBo \t ZBo hit these free throws bruh #### 1.0 , 0.0 , 0.0\n",
      "The Spurs own ZBo \t I told you feed Zbo #### 1.0 , 0.0 , 0.0\n",
      "The Spurs own ZBo \t Memphis is still my team and ZBo is still my dude #### 1.0 , 0.0 , 0.0\n"
     ]
    }
   ],
   "source": [
    "for x, y, z, m, n in zip(error_sent1, error_sent2, lab_b0, lab_b1, lab_gt):\n",
    "    # print(x, '\\t', y, '\\t', z)\n",
    "    print(x, '\\t', y, '####', z,',',m,',', n)"
   ]
  },
  {
   "cell_type": "code",
   "execution_count": 175,
   "id": "16cec49e-0964-43f1-a012-13493eaa486f",
   "metadata": {
    "scrolled": true,
    "tags": []
   },
   "outputs": [
    {
     "name": "stdout",
     "output_type": "stream",
     "text": [
      "8 mile is on friday made \t 8 mile is such an awesome movie #### 1.0 , 1.0 , 0.0\n",
      "Oh shit niggy 8 mile is on \t While yall argue about the game 8 mile is on MTV #### 1.0 , 0.0 , 1.0\n",
      "Ok good the end of 8 Mile is on \t The last 3 rap battles in 8 mile always get me hyped af #### 1.0 , 0.0 , 1.0\n",
      "Anyone trying to see After Earth sometime soon \t Me and my son went to see After Earth last night #### 1.0 , 1.0 , 0.0\n",
      "i need to watch after earth asap \t At the theater with the little about do watch After Earth #### 1.0 , 1.0 , 0.0\n",
      "i need to watch after earth asap \t Someone needs to come see after earth with me #### 1.0 , 0.0 , 1.0\n",
      "I love everyone on the Belgium squad \t In other news this Belgium squad taking on USMNT is STACKED #### 1.0 , 0.0 , 1.0\n",
      "congratulations to petr ech and rafa benitez \t Credit where credits due to Rafa Benitez #### 1.0 , 0.0 , 1.0\n",
      "THANK YOU SO MUCH RAFA BENITEZ \t Credit where credits due to Rafa Benitez #### 1.0 , 0.0 , 1.0\n",
      "Mario Chalmers pissin me off \t Mario Chalmers needs to get punched in the face #### 1.0 , 0.0 , 1.0\n",
      "Chalmers just walked with the ball \t Uhm Chalmers didnt just travel #### 1.0 , 0.0 , 1.0\n",
      "Chara get in that box \t Chara is dirtier than a Fresno adult film star #### 1.0 , 0.0 , 1.0\n",
      "Orr with a big hit on Chara \t I keep waiting for the chara vs orr fight #### 1.0 , 0.0 , 1.0\n",
      "Chara is a disgrace to the NHL \t Chara is just a big goon #### 1.0 , 0.0 , 1.0\n",
      "Chris Davis is putting the team on his back \t Chris Davis is so fucking good #### 1.0 , 0.0 , 1.0\n",
      "Chris Davis is putting the team on his back \t Chris Davis doing what he does #### 1.0 , 0.0 , 1.0\n",
      "Chris Davis is putting the team on his back \t Wow is Chris Davis seriously leading the MLB in Home runs this year #### 1.0 , 0.0 , 1.0\n",
      "chris davis is 44 with two bombs \t Chris Davis has 2 home runs tonight #### 1.0 , 0.0 , 1.0\n",
      "Wait Chris Davis is coming to Catonsville \t CHRIS DAVIS HITS TWO HOMERS AND IS GOING TO BE AT MY SCHOOL TOMORROW #### 1.0 , 0.0 , 1.0\n",
      "New Ciroc Amaretto I NEED THAT \t Oh shit I gotta try that new ciroc flavor #### 1.0 , 0.0 , 1.0\n",
      "New Ciroc Amaretto I NEED THAT \t New Ciroc flavor on the market gotta try that shit #### 1.0 , 0.0 , 1.0\n",
      "it s a Ciroc new flavor \t Ciroc got a new flavor comin out #### 1.0 , 0.0 , 1.0\n",
      "The new Ciroc flavor has arrived \t I dont drink but amaretto ciroc is interesting #### 1.0 , 0.0 , 1.0\n",
      "I like that berry ciroc \t but yall so damn hype bout the new ciroc #### 1.0 , 1.0 , 0.0\n",
      "They making a new ciroc \t we need to try the new Ciroc #### 1.0 , 0.0 , 1.0\n",
      "Family guy is KILLING it tonight \t This gotta be the funniest episode of family guy #### 1.0 , 0.0 , 1.0\n",
      "Family guy is really a reality show \t Family guy is such a funny show #### 1.0 , 1.0 , 0.0\n",
      "Cable is out and Game 7 for the Hawks \t Another big game 7 tonight in the NHL #### 1.0 , 1.0 , 0.0\n",
      "Game 7 in a few minutes \t this is going to be an extremely intense game 7 tonight #### 1.0 , 1.0 , 0.0\n",
      "Blackhawks Red Wings in a game 7 \t Thoughts on today s game 7 #### 1.0 , 1.0 , 0.0\n",
      "Blackhawks Red Wings in a game 7 \t Cable is out and Game 7 for the Hawks #### 1.0 , 1.0 , 0.0\n",
      "Blackhawks Red Wings in a game 7 \t HAWKSWINGS with SOUND Game 7 at 8 #### 1.0 , 1.0 , 0.0\n",
      "So Travis Wood just hit a grand slam \t Kids he is a pitcher plays for the cubs and hit a grand slam #### 1.0 , 0.0 , 1.0\n",
      "A grand slam hit by a pitcher \t How do you give up a grand slam to a pitcher #### 1.0 , 0.0 , 1.0\n",
      "Have a happy Memorial Day weekend too \t We wanted to wish everyone a safe and happy Memorial Day weekend #### 1.0 , 0.0 , 1.0\n",
      "Happy Memorial Day weekend to our passengers \t Coming to you from DC happy Memorial Day Weekend #### 1.0 , 0.0 , 1.0\n",
      "Happy Memorial Day Weekend one and all \t Have A Safe and Happy Memorial Day Weekend From NoNoSquito Bands #### 1.0 , 0.0 , 1.0\n",
      "Hangout app out on iOS prior to Android \t ShowScoop launches a Yelp for live music app for iOS #### 1.0 , 1.0 , 0.0\n",
      "Hangouts for iOS is a nice app \t Google hangouts for iOS is out #### 1.0 , 0.0 , 1.0\n",
      "Damn Jason Kidd and Grant Hill retiring together \t I know Jason Kidd retired and ish #### 1.0 , 1.0 , 0.0\n",
      "Yes Jason Kidd Grant Hill both retired \t Should the Nets retire Jason Kidd s number #### 1.0 , 1.0 , 0.0\n",
      "Yes Jason Kidd Grant Hill both retired \t When guys like Grant Hill and Jason Kidd are hanging it up #### 1.0 , 0.0 , 1.0\n",
      "Jason kidd is not a legend \t Without Jason Kidd NBA would NOT be the same #### 1.0 , 1.0 , 0.0\n",
      "Apple Launches the all new MacBook Air \t Also a new MacBook Air and Pro announced #### 1.0 , 0.0 , 1.0\n",
      "New MacBook Air no new MacBook Pro \t The MacBook Air still doesnt have a disk drive #### 1.0 , 1.0 , 0.0\n",
      "Can I have the new MacBook Air now please \t Is it bad that I want that new MacBook Air too #### 1.0 , 0.0 , 1.0\n",
      "The Marlins defeated the Mets 43 in 20 innings \t 20 innings of the Mets Vs Marlins is torture #### 1.0 , 0.0 , 1.0\n",
      "And the Mets and Marlins go 20 \t marlins beat the mets 21 and it only took twenty innings #### 1.0 , 0.0 , 1.0\n",
      "And the Mets and Marlins go 20 \t Miami Marlins beat the NY Mets 21 in 20 innings #### 1.0 , 0.0 , 1.0\n",
      "Somebody took the Marlins to 20 innings \t Anyone who stayed 20 innings for the marlins #### 1.0 , 1.0 , 0.0\n",
      "Classy gesture by the Mets for Mariano \t real class shown by The Mets Mo Rivera is a legend #### 1.0 , 0.0 , 1.0\n",
      "Classy gesture by the Mets for Mariano \t Pretty classy for the Mets to ask Mo Rivera to throw the first pitch #### 1.0 , 0.0 , 1.0\n",
      "Classy move by the Mets organization \t Real classy of the Mets for all the tributes to Mo #### 1.0 , 0.0 , 1.0\n",
      "Can you following back me Niall \t make that white button blue for me please Niall #### 1.0 , 0.0 , 1.0\n",
      "The POTUS stay getting heckled \t CAN WE DETAIN THE HECKLER SO POTUS CAN FINISH THIS CONFERENCE #### 1.0 , 0.0 , 1.0\n",
      "how can anyone heckle the POTUS \t Who s the crazy lady heckling POTUS #### 1.0 , 0.0 , 1.0\n",
      "Manchester City statement on the sacking of Roberto Mancini \t Roberto Mancini is no longer coach of Manchester City #### 1.0 , 0.0 , 1.0\n",
      "Roberto Mancini has been sacked by Manchester City with the Blues saying \t Roberto Mancini gets the boot from Man City #### 1.0 , 0.0 , 1.0\n",
      "Great Sarah Palin is at the Pacers game jinx on Indiana \t Sarah Palin is rooting for Indiana #### 1.0 , 0.0 , 1.0\n",
      "Great Sarah Palin is at the Pacers game jinx on Indiana \t Sarah Palin at the Pacers game lol she still a #### 1.0 , 0.0 , 1.0\n",
      "Apparently Sarah Palin is at the Pacer s game \t Sarah Palin showed up to the Heat game in hopes that Glen Rice still plays #### 1.0 , 0.0 , 1.0\n",
      "Apparently Sarah Palin is at the Pacer s game \t Sarah Palin looking moderately attractive at the Heat vs Pacers game #### 1.0 , 0.0 , 1.0\n",
      "Sarah Palin is at the game looking sexy \t Sarah Palin is at the game and Im not #### 1.0 , 0.0 , 1.0\n",
      "Sarah Palin is at the game looking sexy \t Sarah Palin s sitting court side at the Heat game right now #### 1.0 , 0.0 , 1.0\n",
      "Sarah Palin s at the HeatPacer game \t Why in the world is Sarah Palin at the Pacers game #### 1.0 , 0.0 , 1.0\n",
      "Shonda is a freaking genius \t THAT LADY IS AMAZING I LOVE SHONDA #### 1.0 , 0.0 , 1.0\n",
      "Shonda is a freaking genius \t Dang Shonda knows she can write #### 1.0 , 0.0 , 1.0\n",
      "Shonda Rhimes is a great writer \t shonda rhimes needs to write a book #### 1.0 , 0.0 , 1.0\n",
      "Shonda Rimes is a genius \t As much as I like Castle Shonda Rhimes just killed it tonight #### 1.0 , 0.0 , 1.0\n",
      "Shonda Rimes is a genius \t Shonda is a GENIUS didnt see it coming #### 1.0 , 0.0 , 1.0\n",
      "hahaha that sounds like me \t ewwww sounds like you got the runs #### 0.0 , 1.0 , 0.0\n",
      "Why is Star Wars on the tv tho \t Fuckin Star Wars is on and you wanna talk on the phone #### 1.0 , 0.0 , 1.0\n",
      "Why is Star Wars on the tv tho \t Star Wars AND Princess Diaries is on #### 1.0 , 0.0 , 1.0\n",
      "Star Wars Return of the Jedi is on \t Why is my boyfriend watching Star Wars right now #### 1.0 , 0.0 , 1.0\n",
      "I must confess I love Star Wars \t Star Wars will NEVER get old #### 1.0 , 0.0 , 1.0\n",
      "I must confess I love Star Wars \t I LOVE ALL THE STAR WARS LOVE ON MY TL RIGHT NOW #### 1.0 , 0.0 , 1.0\n",
      "I must confess I love Star Wars \t Somebody watch Star Wars with me please #### 1.0 , 0.0 , 1.0\n",
      "Hopefully going to see the purge tonight \t Taking mommy to see The Purge for her birthday today #### 1.0 , 0.0 , 1.0\n",
      "might just go see The purge \t So ready to go see the purge #### 1.0 , 0.0 , 1.0\n",
      "I want to go to the movies tonight and see the purge \t I caaaaant wait to see the Purge ltrauzzi #### 1.0 , 0.0 , 1.0\n",
      "I want to see the purge now \t Who s up to watch the Purge with me tonight #### 1.0 , 0.0 , 1.0\n",
      "I want to watch the purge tonight \t Im debating going to see The Purge at 1210 by myself #### 1.0 , 0.0 , 1.0\n",
      "I want to watch the purge tonight \t Thinking bout going to see the purge #### 1.0 , 0.0 , 1.0\n",
      "I want to watch the purge tonight \t Im dragging my bf to see the Purge tonight no matter what #### 1.0 , 0.0 , 1.0\n",
      "Thornton is a fuckin monster \t Shawn Thornton has proven to be the best Thornton #### 1.0 , 1.0 , 0.0\n",
      "Terrible things happening in Turkey \t Children are dying in Turkey #### 1.0 , 0.0 , 1.0\n",
      "Terrible things happening in Turkey \t Voice of Turkey social networking websites blocked in Turkey #### 0.0 , 0.0 , 1.0\n",
      "Terrible things happening in Turkey \t Be with us to stop the violence in Turkey #### 1.0 , 0.0 , 1.0\n",
      "Terrible things happening in Turkey \t Turkey s media is obviously censored #### 1.0 , 0.0 , 1.0\n",
      "World of Jenks is the only show I enjoy watching on MTV \t The World of Jenks is so inspiring #### 1.0 , 0.0 , 1.0\n",
      "World of Jenks is the only show I enjoy watching on MTV \t I DONT WANT THE WORLD OF JENKS TO BE OVER #### 1.0 , 0.0 , 1.0\n",
      "Chad on The World of Jenks is so freakin sweet \t Such a good season of the world of jenks #### 1.0 , 1.0 , 0.0\n",
      "The world of jenks is such a real show \t Jenks from the World of Jenks is such a good person #### 1.0 , 1.0 , 0.0\n",
      "The World of Jenks is over damn \t I love World of Jenks so much Why does it have to be the finale already #### 1.0 , 0.0 , 1.0\n",
      "WORLD OF JENKS IS ON AT 11 \t This season finale of The World of Jenks is legit #### 1.0 , 1.0 , 0.0\n"
     ]
    }
   ],
   "source": [
    "# errors of finetuned model\n",
    "des = errors_ind(sim_pred_b1,all_gts)\n",
    "\n",
    "error_sent1 = [sent1_data[ind] for ind in des]\n",
    "error_sent2 = [sent2_data[ind] for ind in des]\n",
    "lab_b1 = [sim_pred_b1[ind] for ind in des]\n",
    "lab_b0 = [sim_pred_b0[ind] for ind in des]\n",
    "lab_gt = [all_gts[ind] for ind in des]\n",
    "\n",
    "for x, y, z, m, n in zip(error_sent1, error_sent2, lab_b0, lab_b1, lab_gt):\n",
    "    # print(x, '\\t', y, '\\t', z)\n",
    "    print(x, '\\t', y, '####', z,',',m,',', n)"
   ]
  },
  {
   "cell_type": "code",
   "execution_count": 120,
   "id": "25991981-316c-4d21-b9e8-ffbced63db0b",
   "metadata": {},
   "outputs": [
    {
     "name": "stdout",
     "output_type": "stream",
     "text": [
      "precision: 0.3022847100175747, recall: 0.9828571428571429, f1: 0.4623655913978494\n"
     ]
    }
   ],
   "source": [
    "a,b = all_gts, sim_pred_b0\n",
    "print(f'precision: {compute_precision(a, b)}, recall: {compute_recall(a, b)}, f1: {compute_fscore(a, b)}')"
   ]
  },
  {
   "cell_type": "code",
   "execution_count": 121,
   "id": "e5409b98-8453-459b-85bd-b5fbc3281452",
   "metadata": {},
   "outputs": [
    {
     "name": "stdout",
     "output_type": "stream",
     "text": [
      "precision: 0.9888475836431226, recall: 0.40120663650075417, f1: 0.5708154506437768\n"
     ]
    }
   ],
   "source": [
    "a,b = all_gts, sim_pred_b0\n",
    "print(f'precision: {compute_precision(a, b, pos_class=False)}, recall: {compute_recall(a, b, pos_class=False)}, f1: {compute_fscore(a, b, pos_class=False)}')"
   ]
  },
  {
   "cell_type": "code",
   "execution_count": 122,
   "id": "0b2fb740-376d-41fe-a1f7-8479d9333252",
   "metadata": {
    "scrolled": true,
    "tags": []
   },
   "outputs": [
    {
     "name": "stdout",
     "output_type": "stream",
     "text": [
      "precision: 0.8278688524590164, recall: 0.5771428571428572, f1: 0.68013468013468\n"
     ]
    }
   ],
   "source": [
    "a,b = all_gts, sim_pred_b1\n",
    "print(f'precision: {compute_precision(a, b)}, recall: {compute_recall(a, b)}, f1: {compute_fscore(a, b)}')"
   ]
  },
  {
   "cell_type": "code",
   "execution_count": 123,
   "id": "a9d1fadd-aa7b-4560-9d5b-c72fbc8f5c0a",
   "metadata": {},
   "outputs": [
    {
     "name": "stdout",
     "output_type": "stream",
     "text": [
      "precision: 0.8966480446927374, recall: 0.9683257918552036, f1: 0.9311094996374184\n"
     ]
    }
   ],
   "source": [
    "a,b = all_gts, sim_pred_b1\n",
    "print(f'precision: {compute_precision(a, b, pos_class=False)}, recall: {compute_recall(a, b, pos_class=False)}, f1: {compute_fscore(a, b, pos_class=False)}')"
   ]
  },
  {
   "cell_type": "markdown",
   "id": "178284ea-4067-4569-8a3a-c7bd412995e1",
   "metadata": {},
   "source": [
    "# Eval Data"
   ]
  },
  {
   "cell_type": "code",
   "execution_count": 94,
   "id": "2793c018-cbb9-43e4-a13e-8c4d6883a931",
   "metadata": {},
   "outputs": [
    {
     "data": {
      "application/vnd.jupyter.widget-view+json": {
       "model_id": "d42ebad6a19047d090dc6cddf08f626c",
       "version_major": 2,
       "version_minor": 0
      },
      "text/plain": [
       "Batches:   0%|          | 0/65 [00:00<?, ?it/s]"
      ]
     },
     "metadata": {},
     "output_type": "display_data"
    },
    {
     "data": {
      "application/vnd.jupyter.widget-view+json": {
       "model_id": "60dcd275bd334b41ae47f0b40fbda9ce",
       "version_major": 2,
       "version_minor": 0
      },
      "text/plain": [
       "Batches:   0%|          | 0/65 [00:00<?, ?it/s]"
      ]
     },
     "metadata": {},
     "output_type": "display_data"
    },
    {
     "name": "stdout",
     "output_type": "stream",
     "text": [
      "torch.Size([4142])\n",
      "torch.Size([4142])\n"
     ]
    }
   ],
   "source": [
    "import torch\n",
    "cos = torch.nn.CosineSimilarity(dim=1)\n",
    "\n",
    "# model b0\n",
    "model_b0_out1 = model_b0.get_encodings(sent1_val)\n",
    "model_b0_out2 = model_b0.get_encodings(sent2_val)\n",
    "# print(type(model_out1),model_out1.shape, model_out2.shape)\n",
    "\n",
    "model_b1_out1 = torch.from_numpy(model_b1.encode(sent1_val))\n",
    "model_b1_out2 = torch.from_numpy(model_b1.encode(sent2_val))\n",
    "\n",
    "sim_b0 = cos(model_b0_out1, model_b0_out2)\n",
    "sim_b1 = cos(model_b1_out1, model_b1_out2)\n",
    "\n",
    "# sim = torch.sub(model_out1, model_out2)\n",
    "print(sim_b0.shape)\n",
    "print(sim_b1.shape)"
   ]
  },
  {
   "cell_type": "code",
   "execution_count": 95,
   "id": "926701e3-195e-40ec-8cfd-759ecf27bebf",
   "metadata": {},
   "outputs": [],
   "source": [
    "sim_b0 = sim_b0.to('cpu').numpy()\n",
    "sim_b1 = sim_b1.to('cpu').numpy()\n",
    "# print(sim)\n",
    "sim_pred_b0 = [get_pred_label(x, thresh=0.45) for x in sim_b0]\n",
    "sim_pred_b1 = [get_pred_label(x, thresh=0.45) for x in sim_b1]"
   ]
  },
  {
   "cell_type": "code",
   "execution_count": 96,
   "id": "c512a275-c160-49ac-be5a-0ca1cc201c8d",
   "metadata": {},
   "outputs": [
    {
     "name": "stdout",
     "output_type": "stream",
     "text": [
      "precision: 0.4167636786961583, recall: 0.9741496598639455, f1: 0.5837749694251937\n"
     ]
    }
   ],
   "source": [
    "a,b = val_gt, sim_pred_b0\n",
    "print(f'precision: {compute_precision(a, b)}, recall: {compute_recall(a, b)}, f1: {compute_fscore(a, b)}')"
   ]
  },
  {
   "cell_type": "code",
   "execution_count": 97,
   "id": "7d134247-4b56-41dc-bd1e-1f4a541fdbcd",
   "metadata": {},
   "outputs": [
    {
     "name": "stdout",
     "output_type": "stream",
     "text": [
      "precision: 0.9461756373937678, recall: 0.25, f1: 0.39550029603315573\n"
     ]
    }
   ],
   "source": [
    "a,b = val_gt, sim_pred_b0\n",
    "print(f'precision: {compute_precision(a, b, pos_class=False)}, recall: {compute_recall(a, b, pos_class=False)}, f1: {compute_fscore(a, b, pos_class=False)}')"
   ]
  },
  {
   "cell_type": "code",
   "execution_count": 98,
   "id": "6a12af4a-369b-4edf-b050-7619004601cb",
   "metadata": {},
   "outputs": [
    {
     "name": "stdout",
     "output_type": "stream",
     "text": [
      "precision: 0.8023833167825224, recall: 0.5496598639455782, f1: 0.6524020993136859\n"
     ]
    }
   ],
   "source": [
    "a,b = val_gt, sim_pred_b1\n",
    "print(f'precision: {compute_precision(a, b)}, recall: {compute_recall(a, b)}, f1: {compute_fscore(a, b)}')"
   ]
  },
  {
   "cell_type": "code",
   "execution_count": 99,
   "id": "fe2c3042-c606-44f2-a2fa-136961958bba",
   "metadata": {},
   "outputs": [
    {
     "name": "stdout",
     "output_type": "stream",
     "text": [
      "precision: 0.7888357256778309, recall: 0.9255239520958084, f1: 0.8517306698811778\n"
     ]
    }
   ],
   "source": [
    "a,b = val_gt, sim_pred_b1\n",
    "print(f'precision: {compute_precision(a, b, pos_class=False)}, recall: {compute_recall(a, b, pos_class=False)}, f1: {compute_fscore(a, b, pos_class=False)}')"
   ]
  },
  {
   "cell_type": "code",
   "execution_count": null,
   "id": "7a69032e-1009-4fb1-9247-91b18c24179f",
   "metadata": {},
   "outputs": [],
   "source": []
  }
 ],
 "metadata": {
  "kernelspec": {
   "display_name": "all_env1",
   "language": "python",
   "name": "all_env1"
  },
  "language_info": {
   "codemirror_mode": {
    "name": "ipython",
    "version": 3
   },
   "file_extension": ".py",
   "mimetype": "text/x-python",
   "name": "python",
   "nbconvert_exporter": "python",
   "pygments_lexer": "ipython3",
   "version": "3.7.9"
  }
 },
 "nbformat": 4,
 "nbformat_minor": 5
}
